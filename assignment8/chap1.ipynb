{
 "cells": [
  {
   "cell_type": "markdown",
   "metadata": {},
   "source": [
    "# Chapter 1: Automating the betting system\n",
    "\n",
    "In this chapter we will create a function that automatically calculates the team's odds of winning based on the American odds number introduced in the intro []`content:gambling`. "
   ]
  },
  {
   "cell_type": "code",
   "execution_count": 3,
   "metadata": {},
   "outputs": [
    {
     "name": "stdout",
     "output_type": "stream",
     "text": [
      "/bin/bash: [/Users/evelynsun/Desktop/assignment_8_book/assignment8/gambling.jpg]: No such file or directory\n"
     ]
    }
   ],
   "source": [
    "![/Users/evelynsun/Desktop/assignment_8_book/assignment8/gambling.jpg]"
   ]
  },
  {
   "cell_type": "markdown",
   "metadata": {},
   "source": [
    "## Calculate winnings\n",
    "We want to create a function that calculates how much you win based on the American odds and the amount wagered.\n",
    "\n",
    "When the odds are negative:\n",
    "\n",
    "$$\n",
    "AmtWin = (\\frac{Amtbet}{100})(\\lvert(odds)\\rvert)\n",
    "$$ (win_eqn)\n",
    "\n",
    "You need to define an if function for this that reflects the following where a is the odds and b is the amount wagered as per {eq}`win_eqn`.\n",
    "\n",
    "```\n",
    "def win_calc(odds,bet):\n",
    "    if odds > 0:\n",
    "        win = (bet/(abs(odds)))*100\n",
    "    else:\n",
    "        win = (bet/100)* (abs(odds))\n",
    "        print(win)\n",
    "```\n"
   ]
  },
  {
   "cell_type": "code",
   "execution_count": 33,
   "metadata": {},
   "outputs": [],
   "source": [
    "def win_calc(odds,bet):\n",
    "    if odds > 0:\n",
    "        win = (bet/(abs(odds)))*100\n",
    "    else:\n",
    "        win = (bet/100)* (abs(odds))\n",
    "        print(win)"
   ]
  },
  {
   "cell_type": "code",
   "execution_count": 32,
   "metadata": {},
   "outputs": [
    {
     "name": "stdout",
     "output_type": "stream",
     "text": [
      "20.0\n"
     ]
    }
   ],
   "source": [
    "#Test function using an odd of -100 and a bet of $20\n",
    "win_calc(-100,20)"
   ]
  },
  {
   "cell_type": "markdown",
   "metadata": {},
   "source": [
    "## Calculate odds\n",
    "Now we create a function that calcuates your team's chance of winning based on the odds and amount you can win.\n",
    "\n",
    "```\n",
    "def odds_calc(win,bet):\n",
    "    odds = ((win-bet)/win)*100\n",
    "    print(odds)\n",
    "```\n",
    "\n",
    "The wins can be calculated using the `win_calc` function."
   ]
  },
  {
   "cell_type": "code",
   "execution_count": 29,
   "metadata": {},
   "outputs": [],
   "source": [
    "def odds_calc(win,bet):\n",
    "    odds = ((win-bet)/win)*100\n",
    "    print(odds)"
   ]
  },
  {
   "cell_type": "code",
   "execution_count": 30,
   "metadata": {},
   "outputs": [
    {
     "name": "stdout",
     "output_type": "stream",
     "text": [
      "66.66666666666666\n"
     ]
    }
   ],
   "source": [
    "#Test function\n",
    "odds_calc(30,10)"
   ]
  },
  {
   "cell_type": "code",
   "execution_count": null,
   "metadata": {},
   "outputs": [],
   "source": []
  },
  {
   "cell_type": "code",
   "execution_count": null,
   "metadata": {},
   "outputs": [],
   "source": []
  }
 ],
 "metadata": {
  "kernelspec": {
   "display_name": "Python 3 (ipykernel)",
   "language": "python",
   "name": "python3"
  },
  "language_info": {
   "codemirror_mode": {
    "name": "ipython",
    "version": 3
   },
   "file_extension": ".py",
   "mimetype": "text/x-python",
   "name": "python",
   "nbconvert_exporter": "python",
   "pygments_lexer": "ipython3",
   "version": "3.8.11"
  },
  "widgets": {
   "application/vnd.jupyter.widget-state+json": {
    "state": {},
    "version_major": 2,
    "version_minor": 0
   }
  }
 },
 "nbformat": 4,
 "nbformat_minor": 4
}
