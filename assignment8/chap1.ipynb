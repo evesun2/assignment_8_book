{
 "cells": [
  {
   "cell_type": "markdown",
   "metadata": {},
   "source": [
    "# Chapter 1: Automating the betting system\n",
    "\n",
    "In this chapter we will create a function that automatically calculates the team's odds of winning based on the American odds number introduced in the intro []`content:gambling`. "
   ]
  },
  {
   "cell_type": "code",
   "execution_count": 6,
   "metadata": {},
   "outputs": [
    {
     "name": "stdout",
     "output_type": "stream",
     "text": [
      "/bin/bash: [/Users/evelynsun/Desktop/assignment_8_book/assignment8/gambling.jpg]: No such file or directory\n"
     ]
    }
   ],
   "source": [
    "![/Users/evelynsun/Desktop/assignment_8_book/assignment8/gambling.jpg]"
   ]
  },
  {
   "cell_type": "code",
   "execution_count": 10,
   "metadata": {},
   "outputs": [],
   "source": [
    "import pandas as pd\n",
    "import altair as alt"
   ]
  },
  {
   "cell_type": "markdown",
   "metadata": {},
   "source": [
    "## Calculate winnings\n",
    "We want to create a function that calculates how much you win based on the American odds and the amount wagered.\n",
    "\n",
    "When the odds are negative:\n",
    "\n",
    "$$\n",
    "AmtWin = (\\frac{AmtBet}{100})\\lvert(odds)\\rvert\n",
    "$$\n",
    "\n",
    "You need to define an if function for this that reflects the following where a is the odds and b is the amount wagered as per {eq}`win_eqn`.\n",
    "\n",
    "```\n",
    "def win_calc(odds,bet):\n",
    "    if odds > 0:\n",
    "        win = (bet/(abs(odds)))*100\n",
    "    else:\n",
    "        win = (bet/100)* (abs(odds))\n",
    "        print(win)\n",
    "```\n"
   ]
  },
  {
   "cell_type": "code",
   "execution_count": 11,
   "metadata": {},
   "outputs": [],
   "source": [
    "def win_calc(odds,bet):\n",
    "    if odds > 0:\n",
    "        win = (bet/(abs(odds)))*100\n",
    "    else:\n",
    "        win = (bet/100)* (abs(odds))\n",
    "    return win"
   ]
  },
  {
   "cell_type": "code",
   "execution_count": 12,
   "metadata": {},
   "outputs": [
    {
     "data": {
      "text/plain": [
       "20.0"
      ]
     },
     "execution_count": 12,
     "metadata": {},
     "output_type": "execute_result"
    }
   ],
   "source": [
    "#Test function using an odd of -100 and a bet of $20\n",
    "win_calc(-100,20)"
   ]
  },
  {
   "cell_type": "markdown",
   "metadata": {},
   "source": [
    "Next we want to create a graph that shows you what happens to the amount you win when the odds are increasing from -100 to 100. First we want to create a python dictionary that contains a series of odds and their respective wins using the `win_calc` function as follows:\n",
    "\n",
    "```\n",
    "for num in list_of_odds:\n",
    "    win_dict['odds'] += [num]\n",
    "    win_dict['wins'] += [win_calc(num,100)]\n",
    "```"
   ]
  },
  {
   "cell_type": "code",
   "execution_count": 52,
   "metadata": {},
   "outputs": [
    {
     "data": {
      "text/html": [
       "<div>\n",
       "<style scoped>\n",
       "    .dataframe tbody tr th:only-of-type {\n",
       "        vertical-align: middle;\n",
       "    }\n",
       "\n",
       "    .dataframe tbody tr th {\n",
       "        vertical-align: top;\n",
       "    }\n",
       "\n",
       "    .dataframe thead th {\n",
       "        text-align: right;\n",
       "    }\n",
       "</style>\n",
       "<table border=\"1\" class=\"dataframe\">\n",
       "  <thead>\n",
       "    <tr style=\"text-align: right;\">\n",
       "      <th></th>\n",
       "      <th>odds</th>\n",
       "      <th>wins</th>\n",
       "    </tr>\n",
       "  </thead>\n",
       "  <tbody>\n",
       "    <tr>\n",
       "      <th>0</th>\n",
       "      <td>-100</td>\n",
       "      <td>100.000000</td>\n",
       "    </tr>\n",
       "    <tr>\n",
       "      <th>1</th>\n",
       "      <td>-75</td>\n",
       "      <td>75.000000</td>\n",
       "    </tr>\n",
       "    <tr>\n",
       "      <th>2</th>\n",
       "      <td>-50</td>\n",
       "      <td>50.000000</td>\n",
       "    </tr>\n",
       "    <tr>\n",
       "      <th>3</th>\n",
       "      <td>-25</td>\n",
       "      <td>25.000000</td>\n",
       "    </tr>\n",
       "    <tr>\n",
       "      <th>4</th>\n",
       "      <td>25</td>\n",
       "      <td>400.000000</td>\n",
       "    </tr>\n",
       "    <tr>\n",
       "      <th>5</th>\n",
       "      <td>50</td>\n",
       "      <td>200.000000</td>\n",
       "    </tr>\n",
       "    <tr>\n",
       "      <th>6</th>\n",
       "      <td>75</td>\n",
       "      <td>133.333333</td>\n",
       "    </tr>\n",
       "    <tr>\n",
       "      <th>7</th>\n",
       "      <td>100</td>\n",
       "      <td>100.000000</td>\n",
       "    </tr>\n",
       "  </tbody>\n",
       "</table>\n",
       "</div>"
      ],
      "text/plain": [
       "   odds        wins\n",
       "0  -100  100.000000\n",
       "1   -75   75.000000\n",
       "2   -50   50.000000\n",
       "3   -25   25.000000\n",
       "4    25  400.000000\n",
       "5    50  200.000000\n",
       "6    75  133.333333\n",
       "7   100  100.000000"
      ]
     },
     "execution_count": 52,
     "metadata": {},
     "output_type": "execute_result"
    }
   ],
   "source": [
    "chg_odds = [-100, -75, -50, -25, 25, 50, 75, 100]\n",
    "\n",
    "win_dict = {'odds':[],'wins':[]}\n",
    "\n",
    "for num in chg_odds:\n",
    "    win_dict['odds'] += [num]\n",
    "    win_dict['wins'] += [win_calc(num,100)]\n",
    "\n",
    "odds_win_table = pd.DataFrame.from_dict(win_dict)\n",
    "odds_win_table"
   ]
  },
  {
   "cell_type": "code",
   "execution_count": 57,
   "metadata": {},
   "outputs": [
    {
     "data": {
      "text/html": [
       "\n",
       "<div id=\"altair-viz-cf43391fc277424aae2da621d0209e98\"></div>\n",
       "<script type=\"text/javascript\">\n",
       "  var VEGA_DEBUG = (typeof VEGA_DEBUG == \"undefined\") ? {} : VEGA_DEBUG;\n",
       "  (function(spec, embedOpt){\n",
       "    let outputDiv = document.currentScript.previousElementSibling;\n",
       "    if (outputDiv.id !== \"altair-viz-cf43391fc277424aae2da621d0209e98\") {\n",
       "      outputDiv = document.getElementById(\"altair-viz-cf43391fc277424aae2da621d0209e98\");\n",
       "    }\n",
       "    const paths = {\n",
       "      \"vega\": \"https://cdn.jsdelivr.net/npm//vega@5?noext\",\n",
       "      \"vega-lib\": \"https://cdn.jsdelivr.net/npm//vega-lib?noext\",\n",
       "      \"vega-lite\": \"https://cdn.jsdelivr.net/npm//vega-lite@4.17.0?noext\",\n",
       "      \"vega-embed\": \"https://cdn.jsdelivr.net/npm//vega-embed@6?noext\",\n",
       "    };\n",
       "\n",
       "    function maybeLoadScript(lib, version) {\n",
       "      var key = `${lib.replace(\"-\", \"\")}_version`;\n",
       "      return (VEGA_DEBUG[key] == version) ?\n",
       "        Promise.resolve(paths[lib]) :\n",
       "        new Promise(function(resolve, reject) {\n",
       "          var s = document.createElement('script');\n",
       "          document.getElementsByTagName(\"head\")[0].appendChild(s);\n",
       "          s.async = true;\n",
       "          s.onload = () => {\n",
       "            VEGA_DEBUG[key] = version;\n",
       "            return resolve(paths[lib]);\n",
       "          };\n",
       "          s.onerror = () => reject(`Error loading script: ${paths[lib]}`);\n",
       "          s.src = paths[lib];\n",
       "        });\n",
       "    }\n",
       "\n",
       "    function showError(err) {\n",
       "      outputDiv.innerHTML = `<div class=\"error\" style=\"color:red;\">${err}</div>`;\n",
       "      throw err;\n",
       "    }\n",
       "\n",
       "    function displayChart(vegaEmbed) {\n",
       "      vegaEmbed(outputDiv, spec, embedOpt)\n",
       "        .catch(err => showError(`Javascript Error: ${err.message}<br>This usually means there's a typo in your chart specification. See the javascript console for the full traceback.`));\n",
       "    }\n",
       "\n",
       "    if(typeof define === \"function\" && define.amd) {\n",
       "      requirejs.config({paths});\n",
       "      require([\"vega-embed\"], displayChart, err => showError(`Error loading script: ${err.message}`));\n",
       "    } else {\n",
       "      maybeLoadScript(\"vega\", \"5\")\n",
       "        .then(() => maybeLoadScript(\"vega-lite\", \"4.17.0\"))\n",
       "        .then(() => maybeLoadScript(\"vega-embed\", \"6\"))\n",
       "        .catch(showError)\n",
       "        .then(() => displayChart(vegaEmbed));\n",
       "    }\n",
       "  })({\"config\": {\"view\": {\"continuousWidth\": 400, \"continuousHeight\": 300}}, \"data\": {\"name\": \"data-7cbc277eafe288dda0454778fad6de7d\"}, \"mark\": \"bar\", \"encoding\": {\"x\": {\"bin\": {\"maxbins\": 20}, \"field\": \"odds\", \"title\": \"American odds\", \"type\": \"quantitative\"}, \"y\": {\"field\": \"wins\", \"title\": \"Amount of money won in $\", \"type\": \"quantitative\"}}, \"height\": 300, \"title\": \"Relationship between odds and amount of winnings based $100 bet\", \"width\": 500, \"$schema\": \"https://vega.github.io/schema/vega-lite/v4.17.0.json\", \"datasets\": {\"data-7cbc277eafe288dda0454778fad6de7d\": [{\"odds\": -100, \"wins\": 100.0}, {\"odds\": -75, \"wins\": 75.0}, {\"odds\": -50, \"wins\": 50.0}, {\"odds\": -25, \"wins\": 25.0}, {\"odds\": 25, \"wins\": 400.0}, {\"odds\": 50, \"wins\": 200.0}, {\"odds\": 75, \"wins\": 133.33333333333331}, {\"odds\": 100, \"wins\": 100.0}]}}, {\"mode\": \"vega-lite\"});\n",
       "</script>"
      ],
      "text/plain": [
       "alt.Chart(...)"
      ]
     },
     "execution_count": 57,
     "metadata": {},
     "output_type": "execute_result"
    }
   ],
   "source": [
    "#graph the above data\n",
    "chart1 = alt.Chart(odds_win_table, width=500, height=300).mark_bar().encode(\n",
    "                   x=alt.X('odds', bin=alt.Bin(maxbins=20), title='American odds'), \n",
    "                   y=alt.Y('wins', title='Amount of money won in $')\n",
    "         ).properties(title=\"Relationship between odds and amount of winnings based $100 bet\")\n",
    "chart1"
   ]
  },
  {
   "cell_type": "markdown",
   "metadata": {},
   "source": [
    "## Calculate odds\n",
    "Now we create a function that calcuates your team's chance of winning based on the odds and amount you can win based on the following equation:\n",
    "\n",
    "$$\n",
    "Odds = (\\frac{AmtWin-AmtBet}{AmtWin})100\n",
    "$$\n",
    "\n",
    "To the following function:\n",
    "\n",
    "```\n",
    "def odds_calc(win,bet):\n",
    "    odds = ((win-bet)/win)*100\n",
    "    print(odds)\n",
    "```\n",
    "\n",
    "The wins can be calculated using the `win_calc` function."
   ]
  },
  {
   "cell_type": "code",
   "execution_count": 69,
   "metadata": {},
   "outputs": [],
   "source": [
    "def odds_calc(win,bet):\n",
    "    odds = ((win-bet)/win)*100\n",
    "    return odds"
   ]
  },
  {
   "cell_type": "code",
   "execution_count": 70,
   "metadata": {},
   "outputs": [
    {
     "data": {
      "text/plain": [
       "66.66666666666666"
      ]
     },
     "execution_count": 70,
     "metadata": {},
     "output_type": "execute_result"
    }
   ],
   "source": [
    "#Test function\n",
    "odds_calc(30,10)"
   ]
  },
  {
   "cell_type": "markdown",
   "metadata": {},
   "source": [
    "We can graph the American odds against the % chance of winning using the `odds_calc` and the `wins_calc` function in the following code:\n"
   ]
  },
  {
   "cell_type": "code",
   "execution_count": 1,
   "metadata": {},
   "outputs": [
    {
     "ename": "NameError",
     "evalue": "name 'win_calc' is not defined",
     "output_type": "error",
     "traceback": [
      "\u001b[0;31m---------------------------------------------------------------------------\u001b[0m",
      "\u001b[0;31mNameError\u001b[0m                                 Traceback (most recent call last)",
      "Cell \u001b[0;32mIn [1], line 8\u001b[0m\n\u001b[1;32m      6\u001b[0m     win_dict2[\u001b[38;5;124m'\u001b[39m\u001b[38;5;124modds\u001b[39m\u001b[38;5;124m'\u001b[39m] \u001b[38;5;241m+\u001b[39m\u001b[38;5;241m=\u001b[39m [num]\n\u001b[1;32m      7\u001b[0m     \u001b[38;5;28mlist\u001b[39m\u001b[38;5;241m=\u001b[39m[]\n\u001b[0;32m----> 8\u001b[0m     \u001b[38;5;28mlist\u001b[39m \u001b[38;5;241m+\u001b[39m\u001b[38;5;241m=\u001b[39m \u001b[38;5;241m0\u001b[39m \u001b[38;5;241m+\u001b[39m \u001b[43mwin_calc\u001b[49m(num,\u001b[38;5;241m100\u001b[39m)\n\u001b[1;32m     10\u001b[0m \u001b[38;5;28mlist\u001b[39m\n\u001b[1;32m     11\u001b[0m     \u001b[38;5;66;03m#for wins in list:\u001b[39;00m\n\u001b[1;32m     12\u001b[0m         \u001b[38;5;66;03m#win_dict2['percent_chance'] += [odds_calc(wins,100),100]\u001b[39;00m\n",
      "\u001b[0;31mNameError\u001b[0m: name 'win_calc' is not defined"
     ]
    }
   ],
   "source": [
    "chg_odds2 = [-100, -75, -50, -25, 25, 50, 75, 100]\n",
    "\n",
    "win_dict2 = {'odds':[],'percent_chance':[]}\n",
    "\n",
    "for num in chg_odds2:\n",
    "    win_dict2['odds'] += [num]\n",
    "    list=[]\n",
    "    list += 0 + win_calc(num,100)\n",
    "\n",
    "list\n",
    "    #for wins in list:\n",
    "        #win_dict2['percent_chance'] += [odds_calc(wins,100),100]\n",
    "\n",
    "win_dict2\n",
    "\n",
    "#odds_chance_table = pd.DataFrame.from_dict(win_dict2)\n",
    "#odds_chance_table"
   ]
  },
  {
   "cell_type": "code",
   "execution_count": null,
   "metadata": {},
   "outputs": [],
   "source": []
  },
  {
   "cell_type": "code",
   "execution_count": null,
   "metadata": {},
   "outputs": [],
   "source": []
  }
 ],
 "metadata": {
  "kernelspec": {
   "display_name": "Python 3 (ipykernel)",
   "language": "python",
   "name": "python3"
  },
  "language_info": {
   "codemirror_mode": {
    "name": "ipython",
    "version": 3
   },
   "file_extension": ".py",
   "mimetype": "text/x-python",
   "name": "python",
   "nbconvert_exporter": "python",
   "pygments_lexer": "ipython3",
   "version": "3.8.11"
  },
  "widgets": {
   "application/vnd.jupyter.widget-state+json": {
    "state": {},
    "version_major": 2,
    "version_minor": 0
   }
  }
 },
 "nbformat": 4,
 "nbformat_minor": 4
}
