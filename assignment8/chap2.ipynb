{
 "cells": [
  {
   "cell_type": "markdown",
   "metadata": {},
   "source": [
    "# Chapter 2: Automating the betting system\n",
    "\n",
    "In this chapter we will create a function that automatically calculates the team's odds of winning based on the American odds number introduced in the intro. "
   ]
  },
  {
   "cell_type": "markdown",
   "metadata": {},
   "source": [
    "```{figure} https://cdn.vox-cdn.com/thumbor/-8Qp7ERm0PsTttyQjAGRVmpsp-U=/1400x1400/filters:format(png)/cdn.vox-cdn.com/uploads/chorus_asset/file/23119960/1unnamed.png\n",
    ":height: 200px\n",
    ":name: gambling\n",
    "\n",
    "A child playing poker.\n",
    "```"
   ]
  },
  {
   "cell_type": "code",
   "execution_count": 2,
   "metadata": {},
   "outputs": [],
   "source": [
    "import pandas as pd\n",
    "import altair as alt"
   ]
  },
  {
   "cell_type": "markdown",
   "metadata": {},
   "source": [
    "## Calculate winnings\n",
    "We want to create a function that calculates how much you win based on the American odds and the amount wagered.\n",
    "\n",
    "When the odds are negative:\n",
    "\n",
    "```{math}\n",
    ":label: win_eqn\n",
    "AmtWin = (\\frac{AmtBet}{100})\\lvert odds \\rvert\n",
    "```\n",
    "\n",
    "You need to define an if function for this that reflects the following where a is the odds and b is the amount wagered as per {eq}`win_eqn`.\n",
    "\n",
    "```\n",
    "def win_calc(odds,bet):\n",
    "    if odds > 0:\n",
    "        win = (bet/(abs(odds)))*100\n",
    "    else:\n",
    "        win = (bet/100)* (abs(odds))\n",
    "    return win\n",
    "```\n"
   ]
  },
  {
   "cell_type": "code",
   "execution_count": 58,
   "metadata": {},
   "outputs": [],
   "source": [
    "def win_calc(odds,bet):\n",
    "    if odds > 0:\n",
    "        win = (bet/(abs(odds)))*100\n",
    "    else:\n",
    "        win = (bet/100)* (abs(odds))\n",
    "    return win"
   ]
  },
  {
   "cell_type": "code",
   "execution_count": 60,
   "metadata": {},
   "outputs": [
    {
     "data": {
      "text/plain": [
       "40.0"
      ]
     },
     "execution_count": 60,
     "metadata": {},
     "output_type": "execute_result"
    }
   ],
   "source": [
    "#Test function using an odd of -100 and a bet of $20\n",
    "win_calc(-200,20)"
   ]
  },
  {
   "cell_type": "markdown",
   "metadata": {},
   "source": [
    "Next we want to create a graph that shows you what happens to the amount you win when the odds are increasing from -100 to 100. First we want to create a python dictionary that contains a series of odds and their respective wins using the `win_calc` function as follows:\n",
    "\n",
    "```\n",
    "for num in list_of_odds:\n",
    "    win_dict['odds'] += [num]\n",
    "    win_dict['wins'] += [win_calc(num,100)]\n",
    "```"
   ]
  },
  {
   "cell_type": "code",
   "execution_count": 75,
   "metadata": {},
   "outputs": [
    {
     "data": {
      "text/html": [
       "<div>\n",
       "<style scoped>\n",
       "    .dataframe tbody tr th:only-of-type {\n",
       "        vertical-align: middle;\n",
       "    }\n",
       "\n",
       "    .dataframe tbody tr th {\n",
       "        vertical-align: top;\n",
       "    }\n",
       "\n",
       "    .dataframe thead th {\n",
       "        text-align: right;\n",
       "    }\n",
       "</style>\n",
       "<table border=\"1\" class=\"dataframe\">\n",
       "  <thead>\n",
       "    <tr style=\"text-align: right;\">\n",
       "      <th></th>\n",
       "      <th>odds</th>\n",
       "      <th>wins</th>\n",
       "    </tr>\n",
       "  </thead>\n",
       "  <tbody>\n",
       "    <tr>\n",
       "      <th>0</th>\n",
       "      <td>-75</td>\n",
       "      <td>75.000000</td>\n",
       "    </tr>\n",
       "    <tr>\n",
       "      <th>1</th>\n",
       "      <td>-50</td>\n",
       "      <td>50.000000</td>\n",
       "    </tr>\n",
       "    <tr>\n",
       "      <th>2</th>\n",
       "      <td>-25</td>\n",
       "      <td>25.000000</td>\n",
       "    </tr>\n",
       "    <tr>\n",
       "      <th>3</th>\n",
       "      <td>-10</td>\n",
       "      <td>10.000000</td>\n",
       "    </tr>\n",
       "    <tr>\n",
       "      <th>4</th>\n",
       "      <td>10</td>\n",
       "      <td>1000.000000</td>\n",
       "    </tr>\n",
       "    <tr>\n",
       "      <th>5</th>\n",
       "      <td>25</td>\n",
       "      <td>400.000000</td>\n",
       "    </tr>\n",
       "    <tr>\n",
       "      <th>6</th>\n",
       "      <td>50</td>\n",
       "      <td>200.000000</td>\n",
       "    </tr>\n",
       "    <tr>\n",
       "      <th>7</th>\n",
       "      <td>75</td>\n",
       "      <td>133.333333</td>\n",
       "    </tr>\n",
       "  </tbody>\n",
       "</table>\n",
       "</div>"
      ],
      "text/plain": [
       "   odds         wins\n",
       "0   -75    75.000000\n",
       "1   -50    50.000000\n",
       "2   -25    25.000000\n",
       "3   -10    10.000000\n",
       "4    10  1000.000000\n",
       "5    25   400.000000\n",
       "6    50   200.000000\n",
       "7    75   133.333333"
      ]
     },
     "execution_count": 75,
     "metadata": {},
     "output_type": "execute_result"
    }
   ],
   "source": [
    "chg_odds = [-75, -50, -25, -10, 10, 25, 50, 75]\n",
    "\n",
    "win_dict = {'odds':[],'wins':[]}\n",
    "\n",
    "for num in chg_odds:\n",
    "    win_dict['odds'] += [num]\n",
    "    win_dict['wins'] += [win_calc(num,100)]\n",
    "\n",
    "odds_win_table = pd.DataFrame.from_dict(win_dict)\n",
    "odds_win_table"
   ]
  },
  {
   "cell_type": "code",
   "execution_count": 76,
   "metadata": {},
   "outputs": [
    {
     "data": {
      "text/html": [
       "\n",
       "<div id=\"altair-viz-0124ef516cb646fa8b7e9b9f0f7696db\"></div>\n",
       "<script type=\"text/javascript\">\n",
       "  var VEGA_DEBUG = (typeof VEGA_DEBUG == \"undefined\") ? {} : VEGA_DEBUG;\n",
       "  (function(spec, embedOpt){\n",
       "    let outputDiv = document.currentScript.previousElementSibling;\n",
       "    if (outputDiv.id !== \"altair-viz-0124ef516cb646fa8b7e9b9f0f7696db\") {\n",
       "      outputDiv = document.getElementById(\"altair-viz-0124ef516cb646fa8b7e9b9f0f7696db\");\n",
       "    }\n",
       "    const paths = {\n",
       "      \"vega\": \"https://cdn.jsdelivr.net/npm//vega@5?noext\",\n",
       "      \"vega-lib\": \"https://cdn.jsdelivr.net/npm//vega-lib?noext\",\n",
       "      \"vega-lite\": \"https://cdn.jsdelivr.net/npm//vega-lite@4.17.0?noext\",\n",
       "      \"vega-embed\": \"https://cdn.jsdelivr.net/npm//vega-embed@6?noext\",\n",
       "    };\n",
       "\n",
       "    function maybeLoadScript(lib, version) {\n",
       "      var key = `${lib.replace(\"-\", \"\")}_version`;\n",
       "      return (VEGA_DEBUG[key] == version) ?\n",
       "        Promise.resolve(paths[lib]) :\n",
       "        new Promise(function(resolve, reject) {\n",
       "          var s = document.createElement('script');\n",
       "          document.getElementsByTagName(\"head\")[0].appendChild(s);\n",
       "          s.async = true;\n",
       "          s.onload = () => {\n",
       "            VEGA_DEBUG[key] = version;\n",
       "            return resolve(paths[lib]);\n",
       "          };\n",
       "          s.onerror = () => reject(`Error loading script: ${paths[lib]}`);\n",
       "          s.src = paths[lib];\n",
       "        });\n",
       "    }\n",
       "\n",
       "    function showError(err) {\n",
       "      outputDiv.innerHTML = `<div class=\"error\" style=\"color:red;\">${err}</div>`;\n",
       "      throw err;\n",
       "    }\n",
       "\n",
       "    function displayChart(vegaEmbed) {\n",
       "      vegaEmbed(outputDiv, spec, embedOpt)\n",
       "        .catch(err => showError(`Javascript Error: ${err.message}<br>This usually means there's a typo in your chart specification. See the javascript console for the full traceback.`));\n",
       "    }\n",
       "\n",
       "    if(typeof define === \"function\" && define.amd) {\n",
       "      requirejs.config({paths});\n",
       "      require([\"vega-embed\"], displayChart, err => showError(`Error loading script: ${err.message}`));\n",
       "    } else {\n",
       "      maybeLoadScript(\"vega\", \"5\")\n",
       "        .then(() => maybeLoadScript(\"vega-lite\", \"4.17.0\"))\n",
       "        .then(() => maybeLoadScript(\"vega-embed\", \"6\"))\n",
       "        .catch(showError)\n",
       "        .then(() => displayChart(vegaEmbed));\n",
       "    }\n",
       "  })({\"config\": {\"view\": {\"continuousWidth\": 400, \"continuousHeight\": 300}}, \"data\": {\"name\": \"data-14c3eafe9182061c6e8c336dc7f084ed\"}, \"mark\": \"bar\", \"encoding\": {\"x\": {\"bin\": {\"maxbins\": 10}, \"field\": \"odds\", \"title\": \"American odds\", \"type\": \"quantitative\"}, \"y\": {\"field\": \"wins\", \"title\": \"Amount of money won in $ per $100 bet\", \"type\": \"quantitative\"}}, \"height\": 300, \"title\": \"Relationship between odds and amount of winnings based $100 bet\", \"width\": 500, \"$schema\": \"https://vega.github.io/schema/vega-lite/v4.17.0.json\", \"datasets\": {\"data-14c3eafe9182061c6e8c336dc7f084ed\": [{\"odds\": -75, \"wins\": 75.0}, {\"odds\": -50, \"wins\": 50.0}, {\"odds\": -25, \"wins\": 25.0}, {\"odds\": -10, \"wins\": 10.0}, {\"odds\": 10, \"wins\": 1000.0}, {\"odds\": 25, \"wins\": 400.0}, {\"odds\": 50, \"wins\": 200.0}, {\"odds\": 75, \"wins\": 133.33333333333331}]}}, {\"mode\": \"vega-lite\"});\n",
       "</script>"
      ],
      "text/plain": [
       "alt.Chart(...)"
      ]
     },
     "execution_count": 76,
     "metadata": {},
     "output_type": "execute_result"
    }
   ],
   "source": [
    "#graph the above data\n",
    "chart1 = alt.Chart(odds_win_table, width=500, height=300).mark_bar().encode(\n",
    "                   x=alt.X('odds', bin=alt.Bin(maxbins=10), title='American odds'), \n",
    "                   y=alt.Y('wins', title='Amount of money won in $ per $100 bet')\n",
    "         ).properties(title=\"Relationship between odds and amount of winnings based $100 bet\")\n",
    "chart1"
   ]
  },
  {
   "cell_type": "markdown",
   "metadata": {
    "tags": []
   },
   "source": [
    "## Calculate odds\n",
    "Now we create a function that calcuates your team's chance of winning based on the odds and amount you can win based on the following equation:\n",
    "\n",
    "If the amount you win is greater than what you bet:\n",
    "```{math}\n",
    ":label: odds_great\n",
    "PercentOdds = (\\frac{AmtWin-AmtBet}{AmtWin})100\n",
    "```\n",
    "\n",
    "If the amount you win is less than what you bet:\n",
    "```{math}\n",
    ":label: odds_less\n",
    "PercentOdds = 100+(\\frac{AmtWin-AmtBet}{AmtWin})\n",
    "```\n",
    "\n",
    "To the following function:\n",
    "\n",
    "```\n",
    "def odds_calc(win,bet):\n",
    "    if win <= bet:\n",
    "        odds = 100 + ((win-bet)/win)\n",
    "    else:\n",
    "        odds = ((win-bet)/win)*100\n",
    "    return odds\n",
    "```\n",
    "\n",
    "The wins can be calculated using the `win_calc` function."
   ]
  },
  {
   "cell_type": "code",
   "execution_count": 77,
   "metadata": {},
   "outputs": [],
   "source": [
    "def odds_calc(win,bet):\n",
    "    if win <= bet:\n",
    "        odds = 100 + ((win-bet)/win)\n",
    "    else:\n",
    "        odds = ((win-bet)/win)*100\n",
    "    return odds"
   ]
  },
  {
   "cell_type": "code",
   "execution_count": 78,
   "metadata": {},
   "outputs": [
    {
     "data": {
      "text/plain": [
       "99.0"
      ]
     },
     "execution_count": 78,
     "metadata": {},
     "output_type": "execute_result"
    }
   ],
   "source": [
    "#Test function\n",
    "odds_calc(5,10)"
   ]
  },
  {
   "cell_type": "markdown",
   "metadata": {},
   "source": [
    "We can graph the American odds against the % chance of winning using the `odds_calc` and the `wins_calc` function in the following code:\n",
    "\n",
    "1. Create a list of winnings based on the odds chances using the `win_calc` function and looping it through a list of odds:\n",
    "\n",
    "```\n",
    "for num in list_of_odds:\n",
    "    win_list.append(win_calc(num,100))\n",
    "```\n",
    "\n",
    "2. Looping through the list of winnings which correspond to the winnings per odds per $100 bet and calculating the percent chance of winning using the `odds_calc` function:\n",
    "\n",
    "```\n",
    "for nums in list_of_odds:\n",
    "    win_dict2['odds'] += [nums]\n",
    "\n",
    "for wins in win_list:\n",
    "    win_dict2['percent_chance'] += [odds_calc(wins,100)] \n",
    "```"
   ]
  },
  {
   "cell_type": "code",
   "execution_count": 72,
   "metadata": {},
   "outputs": [
    {
     "data": {
      "text/plain": [
       "[75.0, 50.0, 25.0, 10.0, 1000.0, 400.0, 200.0, 133.33333333333331]"
      ]
     },
     "execution_count": 72,
     "metadata": {},
     "output_type": "execute_result"
    }
   ],
   "source": [
    "chg_odds2 = [-75, -50, -25, -10, 10, 25, 50, 75]\n",
    "\n",
    "win_list = []\n",
    "\n",
    "for num in chg_odds2:\n",
    "    win_list.append(win_calc(num,100))\n",
    "\n",
    "win_list"
   ]
  },
  {
   "cell_type": "code",
   "execution_count": 73,
   "metadata": {},
   "outputs": [
    {
     "data": {
      "text/html": [
       "<div>\n",
       "<style scoped>\n",
       "    .dataframe tbody tr th:only-of-type {\n",
       "        vertical-align: middle;\n",
       "    }\n",
       "\n",
       "    .dataframe tbody tr th {\n",
       "        vertical-align: top;\n",
       "    }\n",
       "\n",
       "    .dataframe thead th {\n",
       "        text-align: right;\n",
       "    }\n",
       "</style>\n",
       "<table border=\"1\" class=\"dataframe\">\n",
       "  <thead>\n",
       "    <tr style=\"text-align: right;\">\n",
       "      <th></th>\n",
       "      <th>odds</th>\n",
       "      <th>percent_chance</th>\n",
       "    </tr>\n",
       "  </thead>\n",
       "  <tbody>\n",
       "    <tr>\n",
       "      <th>0</th>\n",
       "      <td>-75</td>\n",
       "      <td>99.666667</td>\n",
       "    </tr>\n",
       "    <tr>\n",
       "      <th>1</th>\n",
       "      <td>-50</td>\n",
       "      <td>99.000000</td>\n",
       "    </tr>\n",
       "    <tr>\n",
       "      <th>2</th>\n",
       "      <td>-25</td>\n",
       "      <td>97.000000</td>\n",
       "    </tr>\n",
       "    <tr>\n",
       "      <th>3</th>\n",
       "      <td>-10</td>\n",
       "      <td>91.000000</td>\n",
       "    </tr>\n",
       "    <tr>\n",
       "      <th>4</th>\n",
       "      <td>10</td>\n",
       "      <td>90.000000</td>\n",
       "    </tr>\n",
       "    <tr>\n",
       "      <th>5</th>\n",
       "      <td>25</td>\n",
       "      <td>75.000000</td>\n",
       "    </tr>\n",
       "    <tr>\n",
       "      <th>6</th>\n",
       "      <td>50</td>\n",
       "      <td>50.000000</td>\n",
       "    </tr>\n",
       "    <tr>\n",
       "      <th>7</th>\n",
       "      <td>75</td>\n",
       "      <td>25.000000</td>\n",
       "    </tr>\n",
       "  </tbody>\n",
       "</table>\n",
       "</div>"
      ],
      "text/plain": [
       "   odds  percent_chance\n",
       "0   -75       99.666667\n",
       "1   -50       99.000000\n",
       "2   -25       97.000000\n",
       "3   -10       91.000000\n",
       "4    10       90.000000\n",
       "5    25       75.000000\n",
       "6    50       50.000000\n",
       "7    75       25.000000"
      ]
     },
     "execution_count": 73,
     "metadata": {},
     "output_type": "execute_result"
    }
   ],
   "source": [
    "win_dict2 = {'odds':[],'percent_chance':[]}\n",
    "\n",
    "for nums in chg_odds2:\n",
    "    win_dict2['odds'] += [nums]\n",
    "\n",
    "for wins in win_list:\n",
    "    win_dict2['percent_chance'] += [odds_calc(wins,100)] \n",
    "\n",
    "odds_chance_table = pd.DataFrame.from_dict(win_dict2)\n",
    "odds_chance_table"
   ]
  },
  {
   "cell_type": "code",
   "execution_count": 74,
   "metadata": {},
   "outputs": [
    {
     "data": {
      "text/html": [
       "\n",
       "<div id=\"altair-viz-f2aeb0b96c0a426e99c1066a6b55f500\"></div>\n",
       "<script type=\"text/javascript\">\n",
       "  var VEGA_DEBUG = (typeof VEGA_DEBUG == \"undefined\") ? {} : VEGA_DEBUG;\n",
       "  (function(spec, embedOpt){\n",
       "    let outputDiv = document.currentScript.previousElementSibling;\n",
       "    if (outputDiv.id !== \"altair-viz-f2aeb0b96c0a426e99c1066a6b55f500\") {\n",
       "      outputDiv = document.getElementById(\"altair-viz-f2aeb0b96c0a426e99c1066a6b55f500\");\n",
       "    }\n",
       "    const paths = {\n",
       "      \"vega\": \"https://cdn.jsdelivr.net/npm//vega@5?noext\",\n",
       "      \"vega-lib\": \"https://cdn.jsdelivr.net/npm//vega-lib?noext\",\n",
       "      \"vega-lite\": \"https://cdn.jsdelivr.net/npm//vega-lite@4.17.0?noext\",\n",
       "      \"vega-embed\": \"https://cdn.jsdelivr.net/npm//vega-embed@6?noext\",\n",
       "    };\n",
       "\n",
       "    function maybeLoadScript(lib, version) {\n",
       "      var key = `${lib.replace(\"-\", \"\")}_version`;\n",
       "      return (VEGA_DEBUG[key] == version) ?\n",
       "        Promise.resolve(paths[lib]) :\n",
       "        new Promise(function(resolve, reject) {\n",
       "          var s = document.createElement('script');\n",
       "          document.getElementsByTagName(\"head\")[0].appendChild(s);\n",
       "          s.async = true;\n",
       "          s.onload = () => {\n",
       "            VEGA_DEBUG[key] = version;\n",
       "            return resolve(paths[lib]);\n",
       "          };\n",
       "          s.onerror = () => reject(`Error loading script: ${paths[lib]}`);\n",
       "          s.src = paths[lib];\n",
       "        });\n",
       "    }\n",
       "\n",
       "    function showError(err) {\n",
       "      outputDiv.innerHTML = `<div class=\"error\" style=\"color:red;\">${err}</div>`;\n",
       "      throw err;\n",
       "    }\n",
       "\n",
       "    function displayChart(vegaEmbed) {\n",
       "      vegaEmbed(outputDiv, spec, embedOpt)\n",
       "        .catch(err => showError(`Javascript Error: ${err.message}<br>This usually means there's a typo in your chart specification. See the javascript console for the full traceback.`));\n",
       "    }\n",
       "\n",
       "    if(typeof define === \"function\" && define.amd) {\n",
       "      requirejs.config({paths});\n",
       "      require([\"vega-embed\"], displayChart, err => showError(`Error loading script: ${err.message}`));\n",
       "    } else {\n",
       "      maybeLoadScript(\"vega\", \"5\")\n",
       "        .then(() => maybeLoadScript(\"vega-lite\", \"4.17.0\"))\n",
       "        .then(() => maybeLoadScript(\"vega-embed\", \"6\"))\n",
       "        .catch(showError)\n",
       "        .then(() => displayChart(vegaEmbed));\n",
       "    }\n",
       "  })({\"config\": {\"view\": {\"continuousWidth\": 400, \"continuousHeight\": 300}}, \"data\": {\"name\": \"data-a7c5ad7a8de090fd920b341bec122b0a\"}, \"mark\": \"bar\", \"encoding\": {\"x\": {\"bin\": {\"maxbins\": 10}, \"field\": \"odds\", \"title\": \"American odds\", \"type\": \"quantitative\"}, \"y\": {\"field\": \"percent_chance\", \"title\": \"Corresponding Percent Chance of Winning\", \"type\": \"quantitative\"}}, \"height\": 300, \"title\": \"Relationship between odds and % chance of your betting team winning based $100 bet\", \"width\": 500, \"$schema\": \"https://vega.github.io/schema/vega-lite/v4.17.0.json\", \"datasets\": {\"data-a7c5ad7a8de090fd920b341bec122b0a\": [{\"odds\": -75, \"percent_chance\": 99.66666666666667}, {\"odds\": -50, \"percent_chance\": 99.0}, {\"odds\": -25, \"percent_chance\": 97.0}, {\"odds\": -10, \"percent_chance\": 91.0}, {\"odds\": 10, \"percent_chance\": 90.0}, {\"odds\": 25, \"percent_chance\": 75.0}, {\"odds\": 50, \"percent_chance\": 50.0}, {\"odds\": 75, \"percent_chance\": 24.99999999999999}]}}, {\"mode\": \"vega-lite\"});\n",
       "</script>"
      ],
      "text/plain": [
       "alt.Chart(...)"
      ]
     },
     "execution_count": 74,
     "metadata": {},
     "output_type": "execute_result"
    }
   ],
   "source": [
    "#graph the above data\n",
    "chart2 = alt.Chart(odds_chance_table, width=500, height=300).mark_bar().encode(\n",
    "                   x=alt.X('odds', bin=alt.Bin(maxbins=10), title='American odds'), \n",
    "                   y=alt.Y('percent_chance', title='Corresponding Percent Chance of Winning')\n",
    "         ).properties(title=\"Relationship between odds and % chance of your betting team winning based $100 bet\")\n",
    "chart2"
   ]
  },
  {
   "cell_type": "markdown",
   "metadata": {},
   "source": [
    "```{figure} https://scx2.b-cdn.net/gfx/news/hires/2013/studyshowsmo.jpg\n",
    ":height: 200px\n",
    ":name: money\n",
    "\n",
    "Loads of money.\n",
    "```\n",
    "\n",
    "Bottom line is if you bet on a team with lower odds and they win, you would triple or quadruple your money ({numref}`money`)."
   ]
  }
 ],
 "metadata": {
  "kernelspec": {
   "display_name": "Python 3 (ipykernel)",
   "language": "python",
   "name": "python3"
  },
  "language_info": {
   "codemirror_mode": {
    "name": "ipython",
    "version": 3
   },
   "file_extension": ".py",
   "mimetype": "text/x-python",
   "name": "python",
   "nbconvert_exporter": "python",
   "pygments_lexer": "ipython3",
   "version": "3.8.11"
  },
  "widgets": {
   "application/vnd.jupyter.widget-state+json": {
    "state": {},
    "version_major": 2,
    "version_minor": 0
   }
  }
 },
 "nbformat": 4,
 "nbformat_minor": 4
}
