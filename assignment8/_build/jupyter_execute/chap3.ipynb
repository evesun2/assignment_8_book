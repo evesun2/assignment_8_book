{
 "cells": [
  {
   "cell_type": "markdown",
   "id": "8c913fc2-2576-4449-9034-db585008e4cd",
   "metadata": {},
   "source": [
    "# Chapter 3: Road to the Finals!\n",
    "\n",
    "The finals for the World Cup this year is on Dec 18. With the finals quickly approaching, people are placing their bets on who might take home the trophy. But you don't want to bet blindly so here we're going to develop a method to calculate the odds of a country winning dependent on which round of the tournament they are in and their historical record."
   ]
  },
  {
   "cell_type": "markdown",
   "id": "a784efbf-c957-4dc8-827b-c3bd4f270090",
   "metadata": {},
   "source": [
    "## Data used for calculations\n",
    "\n",
    "We are going to use data provided here: https://github.com/jfjelstul/worldcup\n",
    "\n",
    "The data that we are going to use specifically is the matches.csv dataset which contains information about all the World Cup matches played since 1930 including information on which stage of the tournament and who won {cite}`fjelstul_fjelstul_2022`. "
   ]
  },
  {
   "cell_type": "code",
   "execution_count": 1,
   "id": "63b0aed5-086f-43ab-80aa-d102816032a9",
   "metadata": {},
   "outputs": [],
   "source": [
    "#Import pandas and altair\n",
    "import pandas as pd\n",
    "import altair as alt"
   ]
  },
  {
   "cell_type": "code",
   "execution_count": 2,
   "id": "027b120b-39d5-44a8-93fe-0a05dec46a27",
   "metadata": {},
   "outputs": [
    {
     "data": {
      "text/html": [
       "<div>\n",
       "<style scoped>\n",
       "    .dataframe tbody tr th:only-of-type {\n",
       "        vertical-align: middle;\n",
       "    }\n",
       "\n",
       "    .dataframe tbody tr th {\n",
       "        vertical-align: top;\n",
       "    }\n",
       "\n",
       "    .dataframe thead th {\n",
       "        text-align: right;\n",
       "    }\n",
       "</style>\n",
       "<table border=\"1\" class=\"dataframe\">\n",
       "  <thead>\n",
       "    <tr style=\"text-align: right;\">\n",
       "      <th></th>\n",
       "      <th>tournament_name</th>\n",
       "      <th>stage_name</th>\n",
       "      <th>home_team_name</th>\n",
       "      <th>away_team_name</th>\n",
       "      <th>home_team_score</th>\n",
       "      <th>away_team_score</th>\n",
       "      <th>result</th>\n",
       "      <th>home_team_win</th>\n",
       "      <th>away_team_win</th>\n",
       "    </tr>\n",
       "  </thead>\n",
       "  <tbody>\n",
       "    <tr>\n",
       "      <th>0</th>\n",
       "      <td>1930 FIFA World Cup</td>\n",
       "      <td>group stage</td>\n",
       "      <td>France</td>\n",
       "      <td>Mexico</td>\n",
       "      <td>4</td>\n",
       "      <td>1</td>\n",
       "      <td>home team win</td>\n",
       "      <td>1</td>\n",
       "      <td>0</td>\n",
       "    </tr>\n",
       "    <tr>\n",
       "      <th>1</th>\n",
       "      <td>1930 FIFA World Cup</td>\n",
       "      <td>group stage</td>\n",
       "      <td>United States</td>\n",
       "      <td>Belgium</td>\n",
       "      <td>3</td>\n",
       "      <td>0</td>\n",
       "      <td>home team win</td>\n",
       "      <td>1</td>\n",
       "      <td>0</td>\n",
       "    </tr>\n",
       "    <tr>\n",
       "      <th>2</th>\n",
       "      <td>1930 FIFA World Cup</td>\n",
       "      <td>group stage</td>\n",
       "      <td>Yugoslavia</td>\n",
       "      <td>Brazil</td>\n",
       "      <td>2</td>\n",
       "      <td>1</td>\n",
       "      <td>home team win</td>\n",
       "      <td>1</td>\n",
       "      <td>0</td>\n",
       "    </tr>\n",
       "    <tr>\n",
       "      <th>3</th>\n",
       "      <td>1930 FIFA World Cup</td>\n",
       "      <td>group stage</td>\n",
       "      <td>Romania</td>\n",
       "      <td>Peru</td>\n",
       "      <td>3</td>\n",
       "      <td>1</td>\n",
       "      <td>home team win</td>\n",
       "      <td>1</td>\n",
       "      <td>0</td>\n",
       "    </tr>\n",
       "    <tr>\n",
       "      <th>4</th>\n",
       "      <td>1930 FIFA World Cup</td>\n",
       "      <td>group stage</td>\n",
       "      <td>Argentina</td>\n",
       "      <td>France</td>\n",
       "      <td>1</td>\n",
       "      <td>0</td>\n",
       "      <td>home team win</td>\n",
       "      <td>1</td>\n",
       "      <td>0</td>\n",
       "    </tr>\n",
       "    <tr>\n",
       "      <th>5</th>\n",
       "      <td>1930 FIFA World Cup</td>\n",
       "      <td>group stage</td>\n",
       "      <td>Chile</td>\n",
       "      <td>Mexico</td>\n",
       "      <td>3</td>\n",
       "      <td>0</td>\n",
       "      <td>home team win</td>\n",
       "      <td>1</td>\n",
       "      <td>0</td>\n",
       "    </tr>\n",
       "    <tr>\n",
       "      <th>6</th>\n",
       "      <td>1930 FIFA World Cup</td>\n",
       "      <td>group stage</td>\n",
       "      <td>Yugoslavia</td>\n",
       "      <td>Bolivia</td>\n",
       "      <td>4</td>\n",
       "      <td>0</td>\n",
       "      <td>home team win</td>\n",
       "      <td>1</td>\n",
       "      <td>0</td>\n",
       "    </tr>\n",
       "    <tr>\n",
       "      <th>7</th>\n",
       "      <td>1930 FIFA World Cup</td>\n",
       "      <td>group stage</td>\n",
       "      <td>United States</td>\n",
       "      <td>Paraguay</td>\n",
       "      <td>3</td>\n",
       "      <td>0</td>\n",
       "      <td>home team win</td>\n",
       "      <td>1</td>\n",
       "      <td>0</td>\n",
       "    </tr>\n",
       "    <tr>\n",
       "      <th>8</th>\n",
       "      <td>1930 FIFA World Cup</td>\n",
       "      <td>group stage</td>\n",
       "      <td>Uruguay</td>\n",
       "      <td>Peru</td>\n",
       "      <td>1</td>\n",
       "      <td>0</td>\n",
       "      <td>home team win</td>\n",
       "      <td>1</td>\n",
       "      <td>0</td>\n",
       "    </tr>\n",
       "    <tr>\n",
       "      <th>9</th>\n",
       "      <td>1930 FIFA World Cup</td>\n",
       "      <td>group stage</td>\n",
       "      <td>Chile</td>\n",
       "      <td>France</td>\n",
       "      <td>1</td>\n",
       "      <td>0</td>\n",
       "      <td>home team win</td>\n",
       "      <td>1</td>\n",
       "      <td>0</td>\n",
       "    </tr>\n",
       "  </tbody>\n",
       "</table>\n",
       "</div>"
      ],
      "text/plain": [
       "       tournament_name   stage_name home_team_name away_team_name  \\\n",
       "0  1930 FIFA World Cup  group stage         France         Mexico   \n",
       "1  1930 FIFA World Cup  group stage  United States        Belgium   \n",
       "2  1930 FIFA World Cup  group stage     Yugoslavia         Brazil   \n",
       "3  1930 FIFA World Cup  group stage        Romania           Peru   \n",
       "4  1930 FIFA World Cup  group stage      Argentina         France   \n",
       "5  1930 FIFA World Cup  group stage          Chile         Mexico   \n",
       "6  1930 FIFA World Cup  group stage     Yugoslavia        Bolivia   \n",
       "7  1930 FIFA World Cup  group stage  United States       Paraguay   \n",
       "8  1930 FIFA World Cup  group stage        Uruguay           Peru   \n",
       "9  1930 FIFA World Cup  group stage          Chile         France   \n",
       "\n",
       "   home_team_score  away_team_score         result  home_team_win  \\\n",
       "0                4                1  home team win              1   \n",
       "1                3                0  home team win              1   \n",
       "2                2                1  home team win              1   \n",
       "3                3                1  home team win              1   \n",
       "4                1                0  home team win              1   \n",
       "5                3                0  home team win              1   \n",
       "6                4                0  home team win              1   \n",
       "7                3                0  home team win              1   \n",
       "8                1                0  home team win              1   \n",
       "9                1                0  home team win              1   \n",
       "\n",
       "   away_team_win  \n",
       "0              0  \n",
       "1              0  \n",
       "2              0  \n",
       "3              0  \n",
       "4              0  \n",
       "5              0  \n",
       "6              0  \n",
       "7              0  \n",
       "8              0  \n",
       "9              0  "
      ]
     },
     "execution_count": 2,
     "metadata": {},
     "output_type": "execute_result"
    }
   ],
   "source": [
    "#Import matches.csv data from worldcup database on github\n",
    "matches = pd.read_csv('https://raw.githubusercontent.com/jfjelstul/worldcup/master/data-csv/matches.csv')\n",
    "matches = matches.drop(columns = ['key_id', 'tournament_id', 'match_id', 'match_name', 'group_name','group_stage', 'knockout_stage', 'replayed','replay', 'match_date', 'match_time', 'stadium_id', 'stadium_name', 'city_name', 'country_name', 'home_team_id', 'home_team_code', 'away_team_id','away_team_code', 'score', 'home_team_score_margin', 'away_team_score_margin', 'extra_time', 'penalty_shootout', 'score_penalties', 'home_team_score_penalties','away_team_score_penalties', 'draw'])\n",
    "matches.head(10)"
   ]
  },
  {
   "cell_type": "markdown",
   "id": "46975c1d-2b21-4899-8858-be5c12d4158b",
   "metadata": {},
   "source": [
    "## Calculating historical success rate\n",
    "We want to use the historical record available in the matches dataset to calculate the likelihood of winning depending on which stage of the tournament the country is playing in."
   ]
  },
  {
   "cell_type": "markdown",
   "id": "0ece28ae-8014-456c-9a43-70a8a5e6dd05",
   "metadata": {},
   "source": [
    "Let's try to figure how what the chances are that Argentina ({numref}`argentina`) wins one of their group stage matches based on their historical record. \n",
    "\n",
    "```{figure} https://upload.wikimedia.org/wikipedia/commons/1/1a/Flag_of_Argentina.svg\n",
    ":height: 150px\n",
    ":name: argentina\n",
    "\n",
    "The flag of Argentina.\n",
    "```\n",
    "\n",
    "To calculate this we will need to using the following formula:\n",
    "\n",
    "```{math}\n",
    ":name: hist_win\n",
    "WinOdds = \\frac {AwayWins + HomeWins}{TotalGames}\n",
    "```"
   ]
  },
  {
   "cell_type": "code",
   "execution_count": 3,
   "id": "56c613c2-fcfd-4d9e-b016-2b61b43eef8b",
   "metadata": {},
   "outputs": [],
   "source": [
    "#Divide the data into only group stage matches based on Argentina as the home or away team\n",
    "group_only = matches[matches['stage_name'] == 'group stage']\n",
    "arg_home = group_only[group_only['home_team_name'] == 'Argentina']\n",
    "arg_away = group_only[group_only['away_team_name'] == 'Argentina']"
   ]
  },
  {
   "cell_type": "markdown",
   "id": "81f71676-7625-470b-8dea-80a70496b54c",
   "metadata": {},
   "source": [
    "After subdividing the dataset, we can use {eq}`hist_win` using the following codes:\n",
    "\n",
    "```\n",
    "total_home = arg_home['home_team_win'].sum()\n",
    "total_away = arg_away['away_team_win'].sum()\n",
    "total_arg_win = total_home + total_away\n",
    "arg_win_rate = (total_arg_win/(arg_home.shape[0] + arg_away.shape[0]))*100\n",
    "arg_win_rate\n",
    "```"
   ]
  },
  {
   "cell_type": "code",
   "execution_count": 4,
   "id": "c3b4de79-df62-48ba-8ed9-4e90296d292e",
   "metadata": {},
   "outputs": [
    {
     "data": {
      "text/plain": [
       "62.5"
      ]
     },
     "execution_count": 4,
     "metadata": {},
     "output_type": "execute_result"
    }
   ],
   "source": [
    "total_home = arg_home['home_team_win'].sum()\n",
    "total_away = arg_away['away_team_win'].sum()\n",
    "total_arg_win = total_home + total_away\n",
    "arg_win_rate = (total_arg_win/(arg_home.shape[0] + arg_away.shape[0]))*100\n",
    "arg_win_rate"
   ]
  },
  {
   "cell_type": "markdown",
   "id": "d34464ae-fab6-4d0c-8b64-1bffe1b78eaa",
   "metadata": {},
   "source": [
    "Let's create a function that automates the process by taking in a which stage of the tournament we are betting on and which country. The code for the function should:\n",
    "\n",
    "1. parse the dataset down to only the stage of interest and only the country of interest\n",
    "2. calculate the total wins from the country in that stage\n",
    "3. based on the total games played, determine the chances of winning\n",
    "\n",
    "```\n",
    "def chance_win(country,stage):\n",
    "    stage_only = matches[matches['stage_name'] == stage]\n",
    "    home = group_only[group_only['home_team_name'] == country]\n",
    "    away = group_only[group_only['away_team_name'] == country]\n",
    "    win_rate = ((home['home_team_win'].sum() + away['away_team_win'].sum())/(arg_home.shape[0] + arg_away.shape[0]))*100\n",
    "    return win_rate\n",
    "```"
   ]
  },
  {
   "cell_type": "code",
   "execution_count": 5,
   "id": "cab6a0af-1ab1-4ee2-8f07-d46c9131488d",
   "metadata": {},
   "outputs": [],
   "source": [
    "def chance_win(country,stage):\n",
    "    stage_only = matches[matches['stage_name'] == stage]\n",
    "    home = group_only[group_only['home_team_name'] == country]\n",
    "    away = group_only[group_only['away_team_name'] == country]\n",
    "    win_rate = ((home['home_team_win'].sum() + away['away_team_win'].sum())/(arg_home.shape[0] + arg_away.shape[0]))*100\n",
    "    return win_rate"
   ]
  },
  {
   "cell_type": "code",
   "execution_count": 6,
   "id": "d57ea166-5d60-4a96-9933-f6eb098d445b",
   "metadata": {},
   "outputs": [
    {
     "data": {
      "text/plain": [
       "62.5"
      ]
     },
     "execution_count": 6,
     "metadata": {},
     "output_type": "execute_result"
    }
   ],
   "source": [
    "#Test above function\n",
    "chance_win('Argentina','group stage')"
   ]
  },
  {
   "cell_type": "markdown",
   "id": "cd7e1f02-bf0b-4456-b125-f0f8d0e8ff0b",
   "metadata": {},
   "source": [
    "## 2022 Predictions for Quarter Finals\n",
    "\n",
    "Using the `chance_win` formula, we can determine the chances that the remaining teams currently have in the quarter finals.\n",
    "\n",
    "Currently, we have the following teams left:\n",
    "\n",
    "```{figure} https://pbs.twimg.com/media/FjUrHd-WYAA5_8k?format=jpg&name=900x900\n",
    ":height: 400px\n",
    ":name: quarters\n",
    "\n",
    "Teams remaining the quarter finals of the 2022 World Cup.\n",
    "```\n",
    "\n",
    "Let's create a table that includes the remaining 8 countries as shown in {numref}`quarters` and their chances of winning their quarter finals match. "
   ]
  },
  {
   "cell_type": "code",
   "execution_count": 7,
   "id": "b0d077c4-3cd4-492f-8729-0a2b258d4743",
   "metadata": {},
   "outputs": [
    {
     "data": {
      "text/html": [
       "<div>\n",
       "<style scoped>\n",
       "    .dataframe tbody tr th:only-of-type {\n",
       "        vertical-align: middle;\n",
       "    }\n",
       "\n",
       "    .dataframe tbody tr th {\n",
       "        vertical-align: top;\n",
       "    }\n",
       "\n",
       "    .dataframe thead th {\n",
       "        text-align: right;\n",
       "    }\n",
       "</style>\n",
       "<table border=\"1\" class=\"dataframe\">\n",
       "  <thead>\n",
       "    <tr style=\"text-align: right;\">\n",
       "      <th></th>\n",
       "      <th>country</th>\n",
       "      <th>odds_of_winning</th>\n",
       "    </tr>\n",
       "  </thead>\n",
       "  <tbody>\n",
       "    <tr>\n",
       "      <th>0</th>\n",
       "      <td>Netherlands</td>\n",
       "      <td>29.166667</td>\n",
       "    </tr>\n",
       "    <tr>\n",
       "      <th>1</th>\n",
       "      <td>Argentina</td>\n",
       "      <td>62.500000</td>\n",
       "    </tr>\n",
       "    <tr>\n",
       "      <th>2</th>\n",
       "      <td>Croatia</td>\n",
       "      <td>14.583333</td>\n",
       "    </tr>\n",
       "    <tr>\n",
       "      <th>3</th>\n",
       "      <td>Brazil</td>\n",
       "      <td>81.250000</td>\n",
       "    </tr>\n",
       "    <tr>\n",
       "      <th>4</th>\n",
       "      <td>England</td>\n",
       "      <td>41.666667</td>\n",
       "    </tr>\n",
       "    <tr>\n",
       "      <th>5</th>\n",
       "      <td>France</td>\n",
       "      <td>33.333333</td>\n",
       "    </tr>\n",
       "    <tr>\n",
       "      <th>6</th>\n",
       "      <td>Morocco</td>\n",
       "      <td>4.166667</td>\n",
       "    </tr>\n",
       "    <tr>\n",
       "      <th>7</th>\n",
       "      <td>Portugal</td>\n",
       "      <td>22.916667</td>\n",
       "    </tr>\n",
       "  </tbody>\n",
       "</table>\n",
       "</div>"
      ],
      "text/plain": [
       "       country  odds_of_winning\n",
       "0  Netherlands        29.166667\n",
       "1    Argentina        62.500000\n",
       "2      Croatia        14.583333\n",
       "3       Brazil        81.250000\n",
       "4      England        41.666667\n",
       "5       France        33.333333\n",
       "6      Morocco         4.166667\n",
       "7     Portugal        22.916667"
      ]
     },
     "execution_count": 7,
     "metadata": {},
     "output_type": "execute_result"
    }
   ],
   "source": [
    "remaining_teams = ['Netherlands', 'Argentina', 'Croatia', 'Brazil', \n",
    "                   'England', 'France', 'Morocco', 'Portugal']\n",
    "\n",
    "win_dict = {'country':[],'odds_of_winning':[]}\n",
    "\n",
    "for teams in remaining_teams:\n",
    "    win_dict['country'] += [teams]\n",
    "    win_dict['odds_of_winning'] += [chance_win(teams,'quarter-finals')]\n",
    "\n",
    "quar_win_table = pd.DataFrame.from_dict(win_dict)\n",
    "quar_win_table"
   ]
  },
  {
   "cell_type": "code",
   "execution_count": 8,
   "id": "7dd27080-a619-4ba7-84b9-ce2af7a586f3",
   "metadata": {
    "tags": [
     "hide-input"
    ]
   },
   "outputs": [
    {
     "data": {
      "text/html": [
       "\n",
       "<div id=\"altair-viz-68585e72463c4fa8a43fb2dcf0587483\"></div>\n",
       "<script type=\"text/javascript\">\n",
       "  var VEGA_DEBUG = (typeof VEGA_DEBUG == \"undefined\") ? {} : VEGA_DEBUG;\n",
       "  (function(spec, embedOpt){\n",
       "    let outputDiv = document.currentScript.previousElementSibling;\n",
       "    if (outputDiv.id !== \"altair-viz-68585e72463c4fa8a43fb2dcf0587483\") {\n",
       "      outputDiv = document.getElementById(\"altair-viz-68585e72463c4fa8a43fb2dcf0587483\");\n",
       "    }\n",
       "    const paths = {\n",
       "      \"vega\": \"https://cdn.jsdelivr.net/npm//vega@5?noext\",\n",
       "      \"vega-lib\": \"https://cdn.jsdelivr.net/npm//vega-lib?noext\",\n",
       "      \"vega-lite\": \"https://cdn.jsdelivr.net/npm//vega-lite@4.17.0?noext\",\n",
       "      \"vega-embed\": \"https://cdn.jsdelivr.net/npm//vega-embed@6?noext\",\n",
       "    };\n",
       "\n",
       "    function maybeLoadScript(lib, version) {\n",
       "      var key = `${lib.replace(\"-\", \"\")}_version`;\n",
       "      return (VEGA_DEBUG[key] == version) ?\n",
       "        Promise.resolve(paths[lib]) :\n",
       "        new Promise(function(resolve, reject) {\n",
       "          var s = document.createElement('script');\n",
       "          document.getElementsByTagName(\"head\")[0].appendChild(s);\n",
       "          s.async = true;\n",
       "          s.onload = () => {\n",
       "            VEGA_DEBUG[key] = version;\n",
       "            return resolve(paths[lib]);\n",
       "          };\n",
       "          s.onerror = () => reject(`Error loading script: ${paths[lib]}`);\n",
       "          s.src = paths[lib];\n",
       "        });\n",
       "    }\n",
       "\n",
       "    function showError(err) {\n",
       "      outputDiv.innerHTML = `<div class=\"error\" style=\"color:red;\">${err}</div>`;\n",
       "      throw err;\n",
       "    }\n",
       "\n",
       "    function displayChart(vegaEmbed) {\n",
       "      vegaEmbed(outputDiv, spec, embedOpt)\n",
       "        .catch(err => showError(`Javascript Error: ${err.message}<br>This usually means there's a typo in your chart specification. See the javascript console for the full traceback.`));\n",
       "    }\n",
       "\n",
       "    if(typeof define === \"function\" && define.amd) {\n",
       "      requirejs.config({paths});\n",
       "      require([\"vega-embed\"], displayChart, err => showError(`Error loading script: ${err.message}`));\n",
       "    } else {\n",
       "      maybeLoadScript(\"vega\", \"5\")\n",
       "        .then(() => maybeLoadScript(\"vega-lite\", \"4.17.0\"))\n",
       "        .then(() => maybeLoadScript(\"vega-embed\", \"6\"))\n",
       "        .catch(showError)\n",
       "        .then(() => displayChart(vegaEmbed));\n",
       "    }\n",
       "  })({\"config\": {\"view\": {\"continuousWidth\": 400, \"continuousHeight\": 300}}, \"data\": {\"name\": \"data-a78e3159fccc504857e46459818a5a93\"}, \"mark\": \"bar\", \"encoding\": {\"x\": {\"field\": \"country\", \"title\": \"Country\", \"type\": \"nominal\"}, \"y\": {\"field\": \"odds_of_winning\", \"title\": \"Percent chance of winning their quarter finals match\", \"type\": \"quantitative\"}}, \"height\": 300, \"title\": \"Odds of remaining countries passing the quarter finals\", \"width\": 500, \"$schema\": \"https://vega.github.io/schema/vega-lite/v4.17.0.json\", \"datasets\": {\"data-a78e3159fccc504857e46459818a5a93\": [{\"country\": \"Netherlands\", \"odds_of_winning\": 29.166666666666668}, {\"country\": \"Argentina\", \"odds_of_winning\": 62.5}, {\"country\": \"Croatia\", \"odds_of_winning\": 14.583333333333334}, {\"country\": \"Brazil\", \"odds_of_winning\": 81.25}, {\"country\": \"England\", \"odds_of_winning\": 41.66666666666667}, {\"country\": \"France\", \"odds_of_winning\": 33.33333333333333}, {\"country\": \"Morocco\", \"odds_of_winning\": 4.166666666666666}, {\"country\": \"Portugal\", \"odds_of_winning\": 22.916666666666664}]}}, {\"mode\": \"vega-lite\"});\n",
       "</script>"
      ],
      "text/plain": [
       "alt.Chart(...)"
      ]
     },
     "execution_count": 8,
     "metadata": {},
     "output_type": "execute_result"
    }
   ],
   "source": [
    "#graph the above data\n",
    "chart3 = alt.Chart(quar_win_table, width=500, height=300).mark_bar().encode(\n",
    "                   x=alt.X('country', title='Country'), \n",
    "                   y=alt.Y('odds_of_winning', title='Percent chance of winning their quarter finals match')\n",
    "         ).properties(title=\"Odds of remaining countries passing the quarter finals\")\n",
    "chart3"
   ]
  },
  {
   "cell_type": "markdown",
   "id": "f559fa86-0fd2-4a38-8aa6-a3b761cd57ac",
   "metadata": {},
   "source": [
    "### Apperance rate to determine a winner\n",
    "\n",
    "We can also determine how often these teams have history been in the semi-finals (ie. passed the quarter finals) by parsing the data based on the semi-finals and which countries have appeared regardless of win or loss at that stage. But this time let's try to predict who can win it all using the appearance rate method. "
   ]
  },
  {
   "cell_type": "markdown",
   "id": "f8382669-1577-4c4e-a467-9c97eaeb7f85",
   "metadata": {},
   "source": [
    "Let's use Argentina as an example again:\n",
    "\n",
    "1. We need to subset the data by finals\n",
    "2. Count the number of appearances Argentina has made\n",
    "3. Count the total number of tournaments represented in the dataset\n",
    "4. Determine the rate of appearance in the semi-finals using the formula:\n",
    "\n",
    "```{math}}\n",
    ":name: appear_rate\n",
    "%AppearanceRate = /frac{Apperances}{Tournaments_Total}100\n",
    "```"
   ]
  },
  {
   "cell_type": "code",
   "execution_count": 9,
   "id": "4d1a8777-c8e4-4eb2-b618-b29355ffc0f2",
   "metadata": {},
   "outputs": [
    {
     "data": {
      "text/plain": [
       "5"
      ]
     },
     "execution_count": 9,
     "metadata": {},
     "output_type": "execute_result"
    }
   ],
   "source": [
    "finals = matches[matches['stage_name'] == 'final']\n",
    "arg_appearance = finals['home_team_name'].str.count('Argentina').sum() + finals['away_team_name'].str.count('Argentina').sum()\n",
    "arg_appearance"
   ]
  },
  {
   "cell_type": "code",
   "execution_count": 10,
   "id": "d0930ba7-2ccb-43e7-bd34-7a78324ddcb3",
   "metadata": {},
   "outputs": [],
   "source": [
    "total_fifas = matches['tournament_name'].nunique()"
   ]
  },
  {
   "cell_type": "markdown",
   "id": "f47acf56-a5b7-4f81-b79d-a6841d7d3022",
   "metadata": {},
   "source": [
    "Rate of appearances in the semi-finals for Argentina as per the above formula {eq}`appear_rate`."
   ]
  },
  {
   "cell_type": "code",
   "execution_count": 11,
   "id": "a1d09626-3ea8-462f-b9d5-72f3dbd006db",
   "metadata": {},
   "outputs": [
    {
     "data": {
      "text/plain": [
       "23.809523809523807"
      ]
     },
     "execution_count": 11,
     "metadata": {},
     "output_type": "execute_result"
    }
   ],
   "source": [
    "arg_final_appearance = (arg_appearance/total_fifas)*100\n",
    "arg_final_appearance"
   ]
  },
  {
   "cell_type": "markdown",
   "id": "d6add7e6-cf85-455b-a409-009a6b8d0315",
   "metadata": {},
   "source": [
    "As per above, we can create a function to automate this and graph the rate of finals appearances by the remaining 8 countries in the 2022 World Cup. "
   ]
  },
  {
   "cell_type": "code",
   "execution_count": 12,
   "id": "f2d0baec-ad4a-49c9-9a4e-b8be0e698a83",
   "metadata": {},
   "outputs": [],
   "source": [
    "def rate_appear(country,stage):\n",
    "    stage_div = matches[matches['stage_name'] == stage]\n",
    "    appears = stage_div['home_team_name'].str.count(country).sum() + stage_div['away_team_name'].str.count(country).sum()\n",
    "    total = matches['tournament_name'].nunique()\n",
    "    appearance_rate = (appears/total)*100\n",
    "    return appearance_rate"
   ]
  },
  {
   "cell_type": "code",
   "execution_count": 13,
   "id": "3a2ce788-78b0-4fad-8f8b-b0c4c2ed5f88",
   "metadata": {},
   "outputs": [
    {
     "data": {
      "text/plain": [
       "23.809523809523807"
      ]
     },
     "execution_count": 13,
     "metadata": {},
     "output_type": "execute_result"
    }
   ],
   "source": [
    "#Test the function using Argentina\n",
    "rate_appear('Argentina','final')"
   ]
  },
  {
   "cell_type": "code",
   "execution_count": 14,
   "id": "52e68829-7c5d-4234-85a9-de83fc5b7eb7",
   "metadata": {},
   "outputs": [
    {
     "data": {
      "text/html": [
       "<div>\n",
       "<style scoped>\n",
       "    .dataframe tbody tr th:only-of-type {\n",
       "        vertical-align: middle;\n",
       "    }\n",
       "\n",
       "    .dataframe tbody tr th {\n",
       "        vertical-align: top;\n",
       "    }\n",
       "\n",
       "    .dataframe thead th {\n",
       "        text-align: right;\n",
       "    }\n",
       "</style>\n",
       "<table border=\"1\" class=\"dataframe\">\n",
       "  <thead>\n",
       "    <tr style=\"text-align: right;\">\n",
       "      <th></th>\n",
       "      <th>country</th>\n",
       "      <th>appearance_rate</th>\n",
       "    </tr>\n",
       "  </thead>\n",
       "  <tbody>\n",
       "    <tr>\n",
       "      <th>0</th>\n",
       "      <td>Netherlands</td>\n",
       "      <td>14.285714</td>\n",
       "    </tr>\n",
       "    <tr>\n",
       "      <th>1</th>\n",
       "      <td>Argentina</td>\n",
       "      <td>23.809524</td>\n",
       "    </tr>\n",
       "    <tr>\n",
       "      <th>2</th>\n",
       "      <td>Croatia</td>\n",
       "      <td>4.761905</td>\n",
       "    </tr>\n",
       "    <tr>\n",
       "      <th>3</th>\n",
       "      <td>Brazil</td>\n",
       "      <td>28.571429</td>\n",
       "    </tr>\n",
       "    <tr>\n",
       "      <th>4</th>\n",
       "      <td>England</td>\n",
       "      <td>4.761905</td>\n",
       "    </tr>\n",
       "    <tr>\n",
       "      <th>5</th>\n",
       "      <td>France</td>\n",
       "      <td>14.285714</td>\n",
       "    </tr>\n",
       "    <tr>\n",
       "      <th>6</th>\n",
       "      <td>Morocco</td>\n",
       "      <td>0.000000</td>\n",
       "    </tr>\n",
       "    <tr>\n",
       "      <th>7</th>\n",
       "      <td>Portugal</td>\n",
       "      <td>0.000000</td>\n",
       "    </tr>\n",
       "  </tbody>\n",
       "</table>\n",
       "</div>"
      ],
      "text/plain": [
       "       country  appearance_rate\n",
       "0  Netherlands        14.285714\n",
       "1    Argentina        23.809524\n",
       "2      Croatia         4.761905\n",
       "3       Brazil        28.571429\n",
       "4      England         4.761905\n",
       "5       France        14.285714\n",
       "6      Morocco         0.000000\n",
       "7     Portugal         0.000000"
      ]
     },
     "execution_count": 14,
     "metadata": {},
     "output_type": "execute_result"
    }
   ],
   "source": [
    "remaining_teams = ['Netherlands', 'Argentina', 'Croatia', 'Brazil', \n",
    "                   'England', 'France', 'Morocco', 'Portugal']\n",
    "\n",
    "appear_dict = {'country':[],'appearance_rate':[]}\n",
    "\n",
    "for teams in remaining_teams:\n",
    "    appear_dict['country'] += [teams]\n",
    "    appear_dict['appearance_rate'] += [rate_appear(teams,'final')]\n",
    "\n",
    "appear_rate_table = pd.DataFrame.from_dict(appear_dict)\n",
    "appear_rate_table"
   ]
  },
  {
   "cell_type": "code",
   "execution_count": 15,
   "id": "2c071b2d-3cb1-42e5-9449-4b6f93d79e6e",
   "metadata": {
    "tags": [
     "hide-input"
    ]
   },
   "outputs": [
    {
     "data": {
      "text/html": [
       "\n",
       "<div id=\"altair-viz-b8bbb95c21de4c44b2c946695fb0c300\"></div>\n",
       "<script type=\"text/javascript\">\n",
       "  var VEGA_DEBUG = (typeof VEGA_DEBUG == \"undefined\") ? {} : VEGA_DEBUG;\n",
       "  (function(spec, embedOpt){\n",
       "    let outputDiv = document.currentScript.previousElementSibling;\n",
       "    if (outputDiv.id !== \"altair-viz-b8bbb95c21de4c44b2c946695fb0c300\") {\n",
       "      outputDiv = document.getElementById(\"altair-viz-b8bbb95c21de4c44b2c946695fb0c300\");\n",
       "    }\n",
       "    const paths = {\n",
       "      \"vega\": \"https://cdn.jsdelivr.net/npm//vega@5?noext\",\n",
       "      \"vega-lib\": \"https://cdn.jsdelivr.net/npm//vega-lib?noext\",\n",
       "      \"vega-lite\": \"https://cdn.jsdelivr.net/npm//vega-lite@4.17.0?noext\",\n",
       "      \"vega-embed\": \"https://cdn.jsdelivr.net/npm//vega-embed@6?noext\",\n",
       "    };\n",
       "\n",
       "    function maybeLoadScript(lib, version) {\n",
       "      var key = `${lib.replace(\"-\", \"\")}_version`;\n",
       "      return (VEGA_DEBUG[key] == version) ?\n",
       "        Promise.resolve(paths[lib]) :\n",
       "        new Promise(function(resolve, reject) {\n",
       "          var s = document.createElement('script');\n",
       "          document.getElementsByTagName(\"head\")[0].appendChild(s);\n",
       "          s.async = true;\n",
       "          s.onload = () => {\n",
       "            VEGA_DEBUG[key] = version;\n",
       "            return resolve(paths[lib]);\n",
       "          };\n",
       "          s.onerror = () => reject(`Error loading script: ${paths[lib]}`);\n",
       "          s.src = paths[lib];\n",
       "        });\n",
       "    }\n",
       "\n",
       "    function showError(err) {\n",
       "      outputDiv.innerHTML = `<div class=\"error\" style=\"color:red;\">${err}</div>`;\n",
       "      throw err;\n",
       "    }\n",
       "\n",
       "    function displayChart(vegaEmbed) {\n",
       "      vegaEmbed(outputDiv, spec, embedOpt)\n",
       "        .catch(err => showError(`Javascript Error: ${err.message}<br>This usually means there's a typo in your chart specification. See the javascript console for the full traceback.`));\n",
       "    }\n",
       "\n",
       "    if(typeof define === \"function\" && define.amd) {\n",
       "      requirejs.config({paths});\n",
       "      require([\"vega-embed\"], displayChart, err => showError(`Error loading script: ${err.message}`));\n",
       "    } else {\n",
       "      maybeLoadScript(\"vega\", \"5\")\n",
       "        .then(() => maybeLoadScript(\"vega-lite\", \"4.17.0\"))\n",
       "        .then(() => maybeLoadScript(\"vega-embed\", \"6\"))\n",
       "        .catch(showError)\n",
       "        .then(() => displayChart(vegaEmbed));\n",
       "    }\n",
       "  })({\"config\": {\"view\": {\"continuousWidth\": 400, \"continuousHeight\": 300}}, \"data\": {\"name\": \"data-19733dea36b04d17f88dcf2bf49dbad7\"}, \"mark\": \"bar\", \"encoding\": {\"x\": {\"field\": \"country\", \"title\": \"Country\", \"type\": \"nominal\"}, \"y\": {\"field\": \"appearance_rate\", \"title\": \"Rate of appearance in the semi-finals\", \"type\": \"quantitative\"}}, \"height\": 300, \"title\": \"Historical rate of appearance in the semi-finals since 1930\", \"width\": 500, \"$schema\": \"https://vega.github.io/schema/vega-lite/v4.17.0.json\", \"datasets\": {\"data-19733dea36b04d17f88dcf2bf49dbad7\": [{\"country\": \"Netherlands\", \"appearance_rate\": 14.285714285714285}, {\"country\": \"Argentina\", \"appearance_rate\": 23.809523809523807}, {\"country\": \"Croatia\", \"appearance_rate\": 4.761904761904762}, {\"country\": \"Brazil\", \"appearance_rate\": 28.57142857142857}, {\"country\": \"England\", \"appearance_rate\": 4.761904761904762}, {\"country\": \"France\", \"appearance_rate\": 14.285714285714285}, {\"country\": \"Morocco\", \"appearance_rate\": 0.0}, {\"country\": \"Portugal\", \"appearance_rate\": 0.0}]}}, {\"mode\": \"vega-lite\"});\n",
       "</script>"
      ],
      "text/plain": [
       "alt.Chart(...)"
      ]
     },
     "execution_count": 15,
     "metadata": {},
     "output_type": "execute_result"
    }
   ],
   "source": [
    "#graph the above data\n",
    "chart4 = alt.Chart(appear_rate_table, width=500, height=300).mark_bar().encode(\n",
    "                   x=alt.X('country', title='Country'), \n",
    "                   y=alt.Y('appearance_rate', title='Rate of appearance in the semi-finals')\n",
    "         ).properties(title=\"Historical rate of appearance in the semi-finals since 1930\")\n",
    "chart4"
   ]
  },
  {
   "cell_type": "markdown",
   "id": "4a77afa7-2a66-419b-bac6-e65687353dd9",
   "metadata": {},
   "source": [
    "According to the data, Brazil appears to have the highest chance of passing the quarter finals and making it to the finals!"
   ]
  },
  {
   "cell_type": "markdown",
   "id": "edc08c4f-da8d-4f6a-ac06-34f34b41bd4c",
   "metadata": {},
   "source": [
    "```{bibliography}\n",
    ":filter: docname in docnames\n",
    "```"
   ]
  }
 ],
 "metadata": {
  "kernelspec": {
   "display_name": "Python 3 (ipykernel)",
   "language": "python",
   "name": "python3"
  },
  "language_info": {
   "codemirror_mode": {
    "name": "ipython",
    "version": 3
   },
   "file_extension": ".py",
   "mimetype": "text/x-python",
   "name": "python",
   "nbconvert_exporter": "python",
   "pygments_lexer": "ipython3",
   "version": "3.8.11"
  }
 },
 "nbformat": 4,
 "nbformat_minor": 5
}